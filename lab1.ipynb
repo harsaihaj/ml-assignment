{
  "nbformat": 4,
  "nbformat_minor": 0,
  "metadata": {
    "colab": {
      "provenance": []
    },
    "kernelspec": {
      "name": "python3",
      "display_name": "Python 3"
    },
    "language_info": {
      "name": "python"
    }
  },
  "cells": [
    {
      "cell_type": "code",
      "execution_count": 3,
      "metadata": {
        "id": "tna5mN8QvBMz"
      },
      "outputs": [],
      "source": [
        "import numpy as np\n",
        "from scipy import stats\n"
      ]
    },
    {
      "cell_type": "code",
      "source": [
        "arr = np.array([1, 2, 3, 6, 4, 5])\n",
        "print(\"Original array:\", arr)\n",
        "print(\"Reversed array:\", arr[::-1])"
      ],
      "metadata": {
        "colab": {
          "base_uri": "https://localhost:8080/"
        },
        "id": "kMC6BHA9vCPK",
        "outputId": "8db3df61-a80b-4067-a1da-fb6c256a8cdd"
      },
      "execution_count": 4,
      "outputs": [
        {
          "output_type": "stream",
          "name": "stdout",
          "text": [
            "Original array: [1 2 3 6 4 5]\n",
            "Reversed array: [5 4 6 3 2 1]\n"
          ]
        }
      ]
    },
    {
      "cell_type": "code",
      "source": [
        "array1 = np.array([[1, 2, 3], [2, 4, 5], [1, 2, 3]])\n",
        "print(\"Original array:\", array1)\n",
        "print(\"Flattened array using ravel():\", array1.ravel())\n",
        "print(\"Flattened array using flatten():\", array1.flatten())"
      ],
      "metadata": {
        "colab": {
          "base_uri": "https://localhost:8080/"
        },
        "id": "QFPrsKODvR_a",
        "outputId": "f94740bc-a5d2-4057-f761-61c9545df69d"
      },
      "execution_count": 5,
      "outputs": [
        {
          "output_type": "stream",
          "name": "stdout",
          "text": [
            "Original array: [[1 2 3]\n",
            " [2 4 5]\n",
            " [1 2 3]]\n",
            "Flattened array using ravel(): [1 2 3 2 4 5 1 2 3]\n",
            "Flattened array using flatten(): [1 2 3 2 4 5 1 2 3]\n"
          ]
        }
      ]
    },
    {
      "cell_type": "code",
      "source": [
        "arr1 = np.array([[1, 2], [3, 4]])\n",
        "arr2 = np.array([[1, 2], [3, 4]])\n",
        "print(\"Array 1:\", arr1)\n",
        "print(\"Array 2:\", arr2)\n",
        "print(\"Are arrays equal?\", np.array_equal(arr1, arr2))"
      ],
      "metadata": {
        "colab": {
          "base_uri": "https://localhost:8080/"
        },
        "id": "I9zCx-4-vTk3",
        "outputId": "cedb3bbf-1ae2-4bb6-f681-a81555daf237"
      },
      "execution_count": 6,
      "outputs": [
        {
          "output_type": "stream",
          "name": "stdout",
          "text": [
            "Array 1: [[1 2]\n",
            " [3 4]]\n",
            "Array 2: [[1 2]\n",
            " [3 4]]\n",
            "Are arrays equal? True\n"
          ]
        }
      ]
    },
    {
      "cell_type": "code",
      "source": [
        "gfg = np.matrix('[4, 1, 9; 12, 3, 1; 4, 5, 6]')\n",
        "print(\"Sum of all elements:\", gfg.sum())\n",
        "print(\"Sum of all elements row-wise:\", gfg.sum(axis=1))\n",
        "print(\"Sum of all elements column-wise:\", gfg.sum(axis=0))"
      ],
      "metadata": {
        "colab": {
          "base_uri": "https://localhost:8080/"
        },
        "id": "uLT1lS7_vWLi",
        "outputId": "9c7e00ae-5f73-4342-8636-ff65c015ba17"
      },
      "execution_count": 7,
      "outputs": [
        {
          "output_type": "stream",
          "name": "stdout",
          "text": [
            "Sum of all elements: 45\n",
            "Sum of all elements row-wise: [[14]\n",
            " [16]\n",
            " [15]]\n",
            "Sum of all elements column-wise: [[20  9 16]]\n"
          ]
        }
      ]
    },
    {
      "cell_type": "code",
      "source": [
        "n_array = np.array([[55, 25, 15],[30, 44, 2],[11, 45, 77]])\n",
        "print(\"Sum of diagonal elements:\", np.trace(n_array))\n",
        "print(\"Eigen values of matrix:\", np.linalg.eigvals(n_array))\n",
        "print(\"Eigen vectors of matrix:\", np.linalg.eig(n_array)[1])\n",
        "print(\"Inverse of matrix:\", np.linalg.inv(n_array))\n",
        "print(\"Determinant of matrix:\", np.linalg.det(n_array))"
      ],
      "metadata": {
        "colab": {
          "base_uri": "https://localhost:8080/"
        },
        "id": "GfduJs0vvdUp",
        "outputId": "dbb2e6dc-7275-4ba1-8981-cf1b3ab311e4"
      },
      "execution_count": 8,
      "outputs": [
        {
          "output_type": "stream",
          "name": "stdout",
          "text": [
            "Sum of diagonal elements: 176\n",
            "Eigen values of matrix: [98.16835147 28.097044   49.73460452]\n",
            "Eigen vectors of matrix: [[ 0.4574917   0.34637121 -0.15017693]\n",
            " [ 0.28447814 -0.72784061 -0.4852124 ]\n",
            " [ 0.84248058  0.59184038  0.8614034 ]]\n",
            "Inverse of matrix: [[ 0.02404141 -0.00911212 -0.00444671]\n",
            " [-0.01667882  0.02966905  0.0024785 ]\n",
            " [ 0.00631287 -0.01603732  0.01217379]]\n",
            "Determinant of matrix: 137180.0000000001\n"
          ]
        }
      ]
    },
    {
      "cell_type": "code",
      "source": [
        "p = np.array([[1, 2], [2, 3]])\n",
        "q = np.array([[4, 5], [6, 7]])\n",
        "print(\"Matrix multiplication:\", np.dot(p, q))\n",
        "print(\"Covariance between matrices:\", np.cov(p, q))"
      ],
      "metadata": {
        "colab": {
          "base_uri": "https://localhost:8080/"
        },
        "id": "Ikg7rD8bvg6r",
        "outputId": "41eebf30-90ae-4c83-c23b-49d23d9df5fd"
      },
      "execution_count": 9,
      "outputs": [
        {
          "output_type": "stream",
          "name": "stdout",
          "text": [
            "Matrix multiplication: [[16 19]\n",
            " [26 31]]\n",
            "Covariance between matrices: [[0.5 0.5 0.5 0.5]\n",
            " [0.5 0.5 0.5 0.5]\n",
            " [0.5 0.5 0.5 0.5]\n",
            " [0.5 0.5 0.5 0.5]]\n"
          ]
        }
      ]
    },
    {
      "cell_type": "code",
      "source": [
        "x = np.array([[2, 3, 4], [3, 2, 9]])\n",
        "y = np.array([[1, 5, 0], [5, 10, 3]])\n",
        "print(\"Inner product:\", np.inner(x, y))\n",
        "print(\"Outer product:\", np.outer(x, y))\n",
        "print(\"Cartesian product:\", np.kron(x, y))"
      ],
      "metadata": {
        "colab": {
          "base_uri": "https://localhost:8080/"
        },
        "id": "Xwzh0IaVviur",
        "outputId": "54ca5197-3d13-4996-d81c-e2f0b625c112"
      },
      "execution_count": 10,
      "outputs": [
        {
          "output_type": "stream",
          "name": "stdout",
          "text": [
            "Inner product: [[17 52]\n",
            " [13 62]]\n",
            "Outer product: [[ 2 10  0 10 20  6]\n",
            " [ 3 15  0 15 30  9]\n",
            " [ 4 20  0 20 40 12]\n",
            " [ 3 15  0 15 30  9]\n",
            " [ 2 10  0 10 20  6]\n",
            " [ 9 45  0 45 90 27]]\n",
            "Cartesian product: [[ 2 10  0  3 15  0  4 20  0]\n",
            " [10 20  6 15 30  9 20 40 12]\n",
            " [ 3 15  0  2 10  0  9 45  0]\n",
            " [15 30  9 10 20  6 45 90 27]]\n"
          ]
        }
      ]
    },
    {
      "cell_type": "code",
      "source": [
        "array = np.array([[1, -2, 3],[-4, 5, -6]])\n",
        "print(\"Element-wise absolute value:\", np.abs(array))\n",
        "print(\"25th percentile of flattened array:\", np.percentile(array.flatten(), 25))\n",
        "print(\"50th percentile of flattened array:\", np.percentile(array.flatten(), 50))\n",
        "print(\"75th percentile of flattened array:\", np.percentile(array.flatten(), 75))\n",
        "print(\"Mean of flattened array:\", np.mean(array.flatten()))\n",
        "print(\"Median of flattened array:\", np.median(array.flatten()))\n",
        "print(\"Standard Deviation of flattened array:\", np.std(array.flatten()))"
      ],
      "metadata": {
        "colab": {
          "base_uri": "https://localhost:8080/"
        },
        "id": "g4HI2myYvlQs",
        "outputId": "8ba74c88-2a93-4274-e91b-1a24f16b764e"
      },
      "execution_count": 11,
      "outputs": [
        {
          "output_type": "stream",
          "name": "stdout",
          "text": [
            "Element-wise absolute value: [[1 2 3]\n",
            " [4 5 6]]\n",
            "25th percentile of flattened array: -3.5\n",
            "50th percentile of flattened array: -0.5\n",
            "75th percentile of flattened array: 2.5\n",
            "Mean of flattened array: -0.5\n",
            "Median of flattened array: -0.5\n",
            "Standard Deviation of flattened array: 3.8622100754188224\n"
          ]
        }
      ]
    },
    {
      "cell_type": "code",
      "source": [
        "a = np.array([-1.8, -1.6, -0.5, 0.5,1.6, 1.8, 3.0])\n",
        "print(\"Floor values:\", np.floor(a))\n",
        "print(\"Ceiling values:\", np.ceil(a))\n",
        "print(\"Truncated values:\", np.trunc(a))\n",
        "print(\"Rounded values:\", np.round(a))"
      ],
      "metadata": {
        "colab": {
          "base_uri": "https://localhost:8080/"
        },
        "id": "tL6-yJEEvyIC",
        "outputId": "90890d60-d8bf-4d42-92e4-a7093d22b02d"
      },
      "execution_count": 12,
      "outputs": [
        {
          "output_type": "stream",
          "name": "stdout",
          "text": [
            "Floor values: [-2. -2. -1.  0.  1.  1.  3.]\n",
            "Ceiling values: [-1. -1. -0.  1.  2.  2.  3.]\n",
            "Truncated values: [-1. -1. -0.  0.  1.  1.  3.]\n",
            "Rounded values: [-2. -2. -0.  0.  2.  2.  3.]\n"
          ]
        }
      ]
    },
    {
      "cell_type": "code",
      "source": [
        "array = np.array([10, 52, 62, 16, 16, 54, 453])\n",
        "print(\"Sorted array:\", np.sort(array))\n",
        "print(\"Indices of sorted array:\", np.argsort(array))\n",
        "print(\"4 smallest elements:\", np.sort(array)[:4])\n",
        "print(\"5 largest elements:\", np.sort(array)[-5:])"
      ],
      "metadata": {
        "colab": {
          "base_uri": "https://localhost:8080/"
        },
        "id": "REf1lQuhv0bW",
        "outputId": "dfa08122-efa4-4f7e-de0a-6ca2c59e5e4f"
      },
      "execution_count": 13,
      "outputs": [
        {
          "output_type": "stream",
          "name": "stdout",
          "text": [
            "Sorted array: [ 10  16  16  52  54  62 453]\n",
            "Indices of sorted array: [0 3 4 1 5 2 6]\n",
            "4 smallest elements: [10 16 16 52]\n",
            "5 largest elements: [ 16  52  54  62 453]\n"
          ]
        }
      ]
    },
    {
      "cell_type": "code",
      "source": [
        "array = np.array([1.0, 1.2, 2.2, 2.0, 3.0, 2.0])\n",
        "print(\"Integer elements only:\", array[np.mod(array, 1) == 0])\n",
        "print(\"Float elements only:\", array[np.mod(array, 1) != 0])"
      ],
      "metadata": {
        "colab": {
          "base_uri": "https://localhost:8080/"
        },
        "id": "MLh1DrFnv29O",
        "outputId": "6b871e33-39f0-4f8e-8bcf-c8a261e91066"
      },
      "execution_count": 14,
      "outputs": [
        {
          "output_type": "stream",
          "name": "stdout",
          "text": [
            "Integer elements only: [1. 2. 3. 2.]\n",
            "Float elements only: [1.2 2.2]\n"
          ]
        }
      ]
    },
    {
      "cell_type": "code",
      "source": [],
      "metadata": {
        "id": "gPbAF6Txv9oj"
      },
      "execution_count": null,
      "outputs": []
    }
  ]
}